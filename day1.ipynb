TASK 1: Load a 512x512 image
Initialize with random rgb values
Display it

#importing libraries
import cv2
import numpy as np

#loading an image and setting variables to store 3d matrix for image
image = cv2.imread('/kaggle/input/girlimages/IP.jpg')
height, width, channels = image.shape 
print("height:", height)
print("width:", width)
print("Channels:", channels)

#Displaying it
random_image = np.random.randint(0, 256, (height, width, channels), dtype=np.uint8)
cv2.imwrite('random_rgb_image.jpg', random_image)
plt.imshow(image, cmap='gray')
plt.title("Grayscale Image")
plt.axis('off')
plt.show()

-------------------------------------------------------------------------------------------------------------------------------------
TASK 2: Load a 512x512 image
Initialize with random rgb values
Tranform the image into a grayscale image
Display it

import matplotlib.pyplot as plt
image = cv2.imread('/kaggle/input/girlimages/IP.jpg')

plt.imshow(image, cmap='gray')
plt.title("Grayscale Image")
plt.axis('off')
plt.show()

------------------------------------------------------------------------------------------------------------------------------------
TASK 3: Load the Fingerprint Image datasets\task3\1.tiff
Display it
Load the Fing

img1= cv2.imread('/kaggle/input/tasks-3/1.tiff')
img2= cv2.imread('/kaggle/input/tasks-3/2.tiff')

plt.imshow(img1)
plt.title("First fingerprint image")
plt.axis('off') 
plt.show()

plt.imshow(img2)
plt.title("Second fingerprint image")
plt.axis('off') 
plt.show()

-----------------------------------------------------------------------------------------------------------------------------------
